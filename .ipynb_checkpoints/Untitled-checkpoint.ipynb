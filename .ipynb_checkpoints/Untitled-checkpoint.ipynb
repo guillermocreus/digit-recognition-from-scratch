{
 "cells": [
  {
   "cell_type": "code",
   "execution_count": 1,
   "metadata": {},
   "outputs": [],
   "source": [
    "import numpy as np\n",
    "\n",
    "def shuffle(fotos, label):\n",
    "\tassert len(fotos) == len(label)\n",
    "\tvM_train = 10 * [0]\n",
    "\tvM_test = 10 * [0]\n",
    "\tM = len(fotos)\n",
    "\tN_train = int(0.75 * M)\n",
    "\tfotos_shuffled = np.empty(fotos.shape, dtype=fotos.dtype)\n",
    "\tlabel_shuffled = np.empty(label.shape, dtype=label.dtype)\n",
    "\tnp.random.seed(2)  # Hara que la permutacion sea random pero siempre que se llame a la funcion sera la misma (para que sea reproducible)\n",
    "\tperm = np.random.permutation(M)\n",
    "\tfor i in range(M):\n",
    "\t\tfotos_shuffled[i] = fotos[perm[i]]\n",
    "\t\tlabel_shuffled[i] = label[perm[i]]\n",
    "\t\tif (i < N_train):\n",
    "\t\t\tvM_train[int(label_shuffled[i])] += 1\n",
    "\t\telse:\n",
    "\t\t\tvM_test[int(label_shuffled[i])] += 1\n",
    "\n",
    "\treturn fotos_shuffled, label_shuffled, vM_train, vM_test\n",
    "\n",
    "def train_test_data():\n",
    "\tcsv = np.genfromtxt('data/train.csv', delimiter=\",\")\n",
    "\tlabel = csv[1:, 0]\n",
    "\tfotos_sin_bias = csv[1:, 1:]\n",
    "\tfotos_sin_bias /= 783\n",
    "\tM = len(fotos_sin_bias)  #data dimension\n",
    "\tbias = np.ones((M, 1))\n",
    "\tfotos = np.append(fotos_sin_bias, bias, axis=1) #added bias node\n",
    "\t\n",
    "\n",
    "\tfotos_shuffled, label_shuffled, vM_train, vM_test = shuffle(fotos, label)\n",
    "\tN_train = int(0.75 * M)\n",
    "\tN_test = M - N_train\n",
    "\t\n",
    "\tfotos_train = fotos_shuffled[:N_train,:]\n",
    "\tlabel_train = label_shuffled[:N_train]\n",
    "\n",
    "\tfotos_test = fotos_shuffled[N_train:,:]\n",
    "\tlabel_test = label_shuffled[N_train:]\n",
    "\n",
    "\tA_train = np.empty((10,),dtype=object) #array donde componente i sera una matriz de data de digito i\n",
    "\tA_test = np.empty((10,),dtype=object) #array donde componente i sera una matriz de data de digito i\n",
    "\t\n",
    "\tfor i in range(10):\n",
    "\t\tA_train[i] = np.empty((vM_train[i], 785))\n",
    "\t\tA_test[i] = np.empty((vM_test[i], 785))\n",
    "\n",
    "\tcont_train = 10 * [0]\n",
    "\tfor k in range(N_train):\n",
    "\t\ti = int(label_train[k])\n",
    "\t\tA_train[i][cont_train[i]] = fotos_train[k]\n",
    "\t\tcont_train[i] += 1\n",
    "\n",
    "\tcont_test = 10 * [0]\n",
    "\tfor k in range(N_test):\n",
    "\t\ti = int(label_test[k])\n",
    "\t\tA_test[i][cont_test[i]] = fotos_test[k]\n",
    "\t\tcont_test[i] += 1\n",
    "\n",
    "\tdel fotos  # libero memoria de las fotos (ya no se usaran)\n",
    "\n",
    "\treturn A_train, A_test, label_train, label_test, vM_train, vM_test"
   ]
  },
  {
   "cell_type": "code",
   "execution_count": 3,
   "metadata": {},
   "outputs": [
    {
     "name": "stdout",
     "output_type": "stream",
     "text": [
      "31500\n"
     ]
    }
   ],
   "source": [
    "A1, A2, l1, l2, v1, v2 = train_test_data()"
   ]
  },
  {
   "cell_type": "code",
   "execution_count": 4,
   "metadata": {},
   "outputs": [
    {
     "name": "stdout",
     "output_type": "stream",
     "text": [
      "31500\n"
     ]
    }
   ],
   "source": [
    "print(len(l1))"
   ]
  },
  {
   "cell_type": "code",
   "execution_count": 9,
   "metadata": {},
   "outputs": [
    {
     "ename": "NameError",
     "evalue": "name 'queue' is not defined",
     "output_type": "error",
     "traceback": [
      "\u001b[0;31m---------------------------------------------------------------------------\u001b[0m",
      "\u001b[0;31mNameError\u001b[0m                                 Traceback (most recent call last)",
      "\u001b[0;32m<ipython-input-9-97006b8eec00>\u001b[0m in \u001b[0;36m<module>\u001b[0;34m\u001b[0m\n\u001b[1;32m     12\u001b[0m \u001b[0mt2\u001b[0m\u001b[0;34m.\u001b[0m\u001b[0mstart\u001b[0m\u001b[0;34m(\u001b[0m\u001b[0;34m)\u001b[0m\u001b[0;34m\u001b[0m\u001b[0m\n\u001b[1;32m     13\u001b[0m \u001b[0;34m\u001b[0m\u001b[0m\n\u001b[0;32m---> 14\u001b[0;31m \u001b[0mresult1\u001b[0m \u001b[0;34m=\u001b[0m \u001b[0mqueue\u001b[0m\u001b[0;34m.\u001b[0m\u001b[0mget\u001b[0m\u001b[0;34m(\u001b[0m\u001b[0;34m)\u001b[0m\u001b[0;34m\u001b[0m\u001b[0m\n\u001b[0m\u001b[1;32m     15\u001b[0m \u001b[0mresult2\u001b[0m \u001b[0;34m=\u001b[0m \u001b[0mqueue\u001b[0m\u001b[0;34m.\u001b[0m\u001b[0mget\u001b[0m\u001b[0;34m(\u001b[0m\u001b[0;34m)\u001b[0m\u001b[0;34m\u001b[0m\u001b[0m\n\u001b[1;32m     16\u001b[0m \u001b[0;34m\u001b[0m\u001b[0m\n",
      "\u001b[0;31mNameError\u001b[0m: name 'queue' is not defined"
     ]
    }
   ],
   "source": [
    "import threading\n",
    "def MyThread1():\n",
    "    A1, A2, l1, l2, v1, v2 = train_test_data()\n",
    "    queue.put([A1, A2, l1, l2, v1, v2])\n",
    "def MyThread2():\n",
    "    A, B, c, d, e, f = train_test_data()\n",
    "    queue.put([A, B, c, d, e, f])\n",
    "\n",
    "t1 = threading.Thread(target=MyThread1, args=[])\n",
    "t2 = threading.Thread(target=MyThread2, args=[])\n",
    "t1.start()\n",
    "t2.start()\n",
    "\n",
    "result1 = queue.get()\n",
    "result2 = queue.get()\n",
    "\n",
    "t1.join()\n",
    "t2.join()"
   ]
  },
  {
   "cell_type": "code",
   "execution_count": null,
   "metadata": {},
   "outputs": [],
   "source": []
  },
  {
   "cell_type": "code",
   "execution_count": null,
   "metadata": {},
   "outputs": [],
   "source": [
    "import threading\n",
    "\n",
    "queue = Queue.Queue()\n",
    "\n",
    "def MyThread1():\n",
    "    A1, A2, l1, l2, v1, v2 = train_test_data()\n",
    "    queue.put([A1, A2, l1, l2, v1, v2])\n",
    "def MyThread2():\n",
    "    A, B, c, d, e, f = train_test_data()\n",
    "    queue.put([A, B, c, d, e, f])\n",
    "\n",
    "t1 = threading.Thread(target=MyThread1, args=[])\n",
    "t2 = threading.Thread(target=MyThread2, args=[])\n",
    "\n",
    "t1.start()\n",
    "t2.start()\n",
    "t1.join()\n",
    "t2.join()\n",
    "\n",
    "result1 = queue.get()\n",
    "result2 = queue.get()\n",
    "\n"
   ]
  },
  {
   "cell_type": "code",
   "execution_count": null,
   "metadata": {},
   "outputs": [],
   "source": [
    "for i in range(len(result1)):\n",
    "    assert result1[i] == result2[i]"
   ]
  },
  {
   "cell_type": "code",
   "execution_count": null,
   "metadata": {},
   "outputs": [],
   "source": []
  }
 ],
 "metadata": {
  "kernelspec": {
   "display_name": "Python 3",
   "language": "python",
   "name": "python3"
  },
  "language_info": {
   "codemirror_mode": {
    "name": "ipython",
    "version": 3
   },
   "file_extension": ".py",
   "mimetype": "text/x-python",
   "name": "python",
   "nbconvert_exporter": "python",
   "pygments_lexer": "ipython3",
   "version": "3.6.4"
  }
 },
 "nbformat": 4,
 "nbformat_minor": 2
}
